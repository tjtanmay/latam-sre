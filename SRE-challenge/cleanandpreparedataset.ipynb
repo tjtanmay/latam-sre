{
 "cells": [
  {
   "cell_type": "code",
   "execution_count": 1,
   "metadata": {},
   "outputs": [
    {
     "data": {
      "text/plain": [
       "Unnamed: 0           0\n",
       "year                 0\n",
       "month                0\n",
       "day                  0\n",
       "dep_time          2196\n",
       "sched_dep_time       0\n",
       "dep_delay         2196\n",
       "arr_time          2333\n",
       "sched_arr_time       0\n",
       "arr_delay         2557\n",
       "carrier              0\n",
       "flight               0\n",
       "tailnum            981\n",
       "origin               0\n",
       "dest                 0\n",
       "air_time          2557\n",
       "distance             0\n",
       "hour                 0\n",
       "minute               0\n",
       "time_hour            0\n",
       "flightb              0\n",
       "totflight            0\n",
       "avgdelay            12\n",
       "airline              0\n",
       "airport              0\n",
       "lat                  0\n",
       "lon                  0\n",
       "alt                  0\n",
       "tz                   0\n",
       "dst                  0\n",
       "tzone                0\n",
       "dtype: int64"
      ]
     },
     "execution_count": 1,
     "metadata": {},
     "output_type": "execute_result"
    }
   ],
   "source": [
    "import pandas as pd\n",
    "df = pd.read_csv('datasets/flightdata.csv')\n",
    "# print the dataframe\n",
    "#print(df)\n",
    "df.isnull().values.any()\n",
    "df.isnull().sum()"
   ]
  },
  {
   "cell_type": "code",
   "execution_count": 2,
   "metadata": {},
   "outputs": [
    {
     "data": {
      "text/plain": [
       "year                 0\n",
       "month                0\n",
       "day                  0\n",
       "sched_dep_time       0\n",
       "sched_arr_time       0\n",
       "carrier              0\n",
       "origin               0\n",
       "dest                 0\n",
       "dep_delay         2196\n",
       "arr_delay         2557\n",
       "dtype: int64"
      ]
     },
     "execution_count": 2,
     "metadata": {},
     "output_type": "execute_result"
    }
   ],
   "source": [
    "df = df[[\"year\",\"month\",\"day\",\"sched_dep_time\",\"sched_arr_time\",\"carrier\",\"origin\",\"dest\",\"dep_delay\",\"arr_delay\"]]\n",
    "df.isnull().sum()"
   ]
  },
  {
   "cell_type": "code",
   "execution_count": 4,
   "metadata": {},
   "outputs": [],
   "source": [
    "df = df.fillna({\"dep_delay\": 1})\n",
    "df = df.fillna({\"arr_delay\": 1})"
   ]
  },
  {
   "cell_type": "code",
   "execution_count": 5,
   "metadata": {},
   "outputs": [
    {
     "data": {
      "text/plain": [
       "year              0\n",
       "month             0\n",
       "day               0\n",
       "sched_dep_time    0\n",
       "sched_arr_time    0\n",
       "carrier           0\n",
       "origin            0\n",
       "dest              0\n",
       "dep_delay         0\n",
       "arr_delay         0\n",
       "dtype: int64"
      ]
     },
     "execution_count": 5,
     "metadata": {},
     "output_type": "execute_result"
    }
   ],
   "source": [
    "df.isnull().sum()"
   ]
  }
 ],
 "metadata": {
  "kernelspec": {
   "display_name": "SRE-challenge",
   "language": "python",
   "name": "python3"
  },
  "language_info": {
   "codemirror_mode": {
    "name": "ipython",
    "version": 3
   },
   "file_extension": ".py",
   "mimetype": "text/x-python",
   "name": "python",
   "nbconvert_exporter": "python",
   "pygments_lexer": "ipython3",
   "version": "3.10.9"
  },
  "orig_nbformat": 4,
  "vscode": {
   "interpreter": {
    "hash": "24171166026d6e0743bf83e6330bea832d34f1b7361ef28848a53f6729e9d885"
   }
  }
 },
 "nbformat": 4,
 "nbformat_minor": 2
}
